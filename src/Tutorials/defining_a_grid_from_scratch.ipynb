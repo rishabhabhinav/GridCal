{
 "cells": [
  {
   "cell_type": "markdown",
   "source": [
    "# Defining a grid from scratch\n",
    "\n",
    "In this example we are going to create a grid just by using GrdiCal's comands and we will run a power flow study."
   ],
   "metadata": {
    "collapsed": false
   }
  },
  {
   "cell_type": "code",
   "execution_count": 46,
   "outputs": [],
   "source": [
    "import pandas as pd\n",
    "import numpy as np\n",
    "\n",
    "from GridCal.Engine import *\n",
    "\n",
    "%matplotlib inline"
   ],
   "metadata": {
    "collapsed": false,
    "pycharm": {
     "name": "#%% python\n"
    }
   }
  },
  {
   "cell_type": "markdown",
   "metadata": {},
   "source": [
    "Let's create a new grid object:"
   ]
  },
  {
   "cell_type": "code",
   "execution_count": 47,
   "metadata": {
    "pycharm": {
     "name": "#%% code\n"
    }
   },
   "outputs": [],
   "source": [
    "grid = MultiCircuit(name='lynn 5 bus')"
   ]
  },
  {
   "cell_type": "markdown",
   "source": [
    "Define this first bus with all the parameters for demonstration purposes:"
   ],
   "metadata": {
    "collapsed": false
   }
  },
  {
   "cell_type": "code",
   "execution_count": 48,
   "outputs": [],
   "source": [
    "bus1 = Bus(name='Bus1',\n",
    "           vnom=10,   # Nominal voltage in kV\n",
    "           vmin=0.9,  # Bus minimum voltage in per unit\n",
    "           vmax=1.1,  # Bus maximum voltage in per unit\n",
    "           xpos=0,    # Bus x position in pixels\n",
    "           ypos=0,    # Bus y position in pixels\n",
    "           height=0,  # Bus height in pixels\n",
    "           width=0,   # Bus width in pixels\n",
    "           active=True,   # Is the bus active?\n",
    "           is_slack=False,  # Is this bus a slack bus?\n",
    "           area='Default',  # Area (for grouping purposes only)\n",
    "           zone='Default',  # Zone (for grouping purposes only)\n",
    "           substation='Default'  # Substation (for grouping purposes only)\n",
    "          )"
   ],
   "metadata": {
    "collapsed": false,
    "pycharm": {
     "name": "#%%\n"
    }
   }
  },
  {
   "cell_type": "markdown",
   "source": [
    "The rest of the buses are defined with the default parameters:"
   ],
   "metadata": {
    "collapsed": false,
    "pycharm": {
     "name": "#%% md\n"
    }
   }
  },
  {
   "cell_type": "code",
   "execution_count": 49,
   "outputs": [],
   "source": [
    "bus2 = Bus(name='Bus2')\n",
    "bus3 = Bus(name='Bus3')\n",
    "bus4 = Bus(name='Bus4')\n",
    "bus5 = Bus(name='Bus5')"
   ],
   "metadata": {
    "collapsed": false,
    "pycharm": {
     "name": "#%%\n"
    }
   }
  },
  {
   "cell_type": "markdown",
   "source": [
    "Add the bus objects to the circuit:"
   ],
   "metadata": {
    "collapsed": false,
    "pycharm": {
     "name": "#%% md\n"
    }
   }
  },
  {
   "cell_type": "code",
   "execution_count": 50,
   "outputs": [],
   "source": [
    "grid.add_bus(bus1)\n",
    "grid.add_bus(bus2)\n",
    "grid.add_bus(bus3)\n",
    "grid.add_bus(bus4)\n",
    "grid.add_bus(bus5)"
   ],
   "metadata": {
    "collapsed": false,
    "pycharm": {
     "name": "#%%\n"
    }
   }
  },
  {
   "cell_type": "markdown",
   "metadata": {
    "pycharm": {
     "name": "#%% md\n"
    }
   },
   "source": [
    "In GridCal, the loads, generators etc. are stored within each bus object.\n",
    "\n",
    "We'll define the first load completely:"
   ]
  },
  {
   "cell_type": "code",
   "execution_count": 51,
   "outputs": [
    {
     "data": {
      "text/plain": "<GridCal.Engine.Devices.load.Load at 0x7f02890d8fd0>"
     },
     "execution_count": 51,
     "metadata": {},
     "output_type": "execute_result"
    }
   ],
   "source": [
    "l2 = Load(name='Load',\n",
    "          G=0,  # Impedance of the ZIP model in MVA at the nominal voltage\n",
    "          B=0,\n",
    "          Ir=0,\n",
    "          Ii=0,  # Current of the ZIP model in MVA at the nominal voltage\n",
    "          P=40,\n",
    "          Q=20,  # Power of the ZIP model in MVA\n",
    "          P_prof=None,  # Impedance profile\n",
    "          Q_prof=None,  # Current profile\n",
    "          Ir_prof=None,  # Power profile\n",
    "          Ii_prof=None,\n",
    "          G_prof=None,\n",
    "          B_prof=None,\n",
    "          active=True,  # Is active?\n",
    "          mttf=0.0,  # Mean time to failure\n",
    "          mttr=0.0  # Mean time to recovery\n",
    "        )\n",
    "grid.add_load(bus2, l2)"
   ],
   "metadata": {
    "collapsed": false,
    "pycharm": {
     "name": "#%%\n"
    }
   }
  },
  {
   "cell_type": "markdown",
   "source": [
    "Define the others with the default parameters:"
   ],
   "metadata": {
    "collapsed": false,
    "pycharm": {
     "name": "#%% md\n"
    }
   }
  },
  {
   "cell_type": "code",
   "execution_count": 52,
   "outputs": [
    {
     "data": {
      "text/plain": "<GridCal.Engine.Devices.load.Load at 0x7f0288a88ac8>"
     },
     "execution_count": 52,
     "metadata": {},
     "output_type": "execute_result"
    }
   ],
   "source": [
    "grid.add_load(bus3, Load(P=25, Q=15))\n",
    "grid.add_load(bus4, Load(P=40, Q=20))\n",
    "grid.add_load(bus5, Load(P=50, Q=20))"
   ],
   "metadata": {
    "collapsed": false,
    "pycharm": {
     "name": "#%%\n"
    }
   }
  },
  {
   "cell_type": "code",
   "execution_count": 53,
   "metadata": {},
   "outputs": [
    {
     "data": {
      "text/plain": "<GridCal.Engine.Devices.generator.Generator at 0x7f02881bfda0>"
     },
     "execution_count": 53,
     "metadata": {},
     "output_type": "execute_result"
    }
   ],
   "source": [
    "g1 = Generator(\n",
    "    name='gen',\n",
    "    active_power=0.0,  # Active power in MW, since this generator is used to set the slack , is 0\n",
    "    voltage_module=1.0,  # Voltage set point to control\n",
    "    Qmin=-9999,  # minimum reactive power in MVAr\n",
    "    Qmax=9999,  # Maximum reactive power in MVAr\n",
    "    Snom=9999,  # Nominal power in MVA\n",
    "    power_prof=None,  # power profile\n",
    "    vset_prof=None,  # voltage set point profile\n",
    "    active=True  # Is active?\n",
    ")\n",
    "grid.add_generator(bus1, g1)"
   ]
  },
  {
   "cell_type": "code",
   "execution_count": 54,
   "metadata": {},
   "outputs": [],
   "source": [
    "br1 = Line(bus_from=bus1,\n",
    "           bus_to=bus2,\n",
    "           name='Line 1-2',\n",
    "           r=0.05,  # resistance of the pi model in per unit\n",
    "           x=0.11,  # reactance of the pi model in per unit\n",
    "           b=0.02,  # susceptance of the pi model in per unit\n",
    "           rate=50,  # Rate in MVA\n",
    "           active=True,  # is the branch active?\n",
    "           mttf=0,  # Mean time to failure\n",
    "           mttr=0,  # Mean time to recovery\n",
    "           length=1,  # Length in km (to be used with templates)\n",
    "           template=None  # Branch template (The default one is void)\n",
    "          )\n",
    "grid.add_branch(br1)"
   ]
  },
  {
   "cell_type": "markdown",
   "source": [
    "All other branches with necessary parameters only:"
   ],
   "metadata": {
    "collapsed": false
   }
  },
  {
   "cell_type": "code",
   "execution_count": 55,
   "outputs": [],
   "source": [
    "grid.add_branch(Line(bus1, bus3, name='Line 1-3', r=0.05, x=0.11, b=0.02, rate=50))\n",
    "grid.add_branch(Line(bus1, bus5, name='Line 1-5', r=0.03, x=0.08, b=0.02, rate=80))\n",
    "grid.add_branch(Line(bus2, bus3, name='Line 2-3', r=0.04, x=0.09, b=0.02, rate=3))\n",
    "grid.add_branch(Line(bus2, bus5, name='Line 2-5', r=0.04, x=0.09, b=0.02, rate=10))\n",
    "grid.add_branch(Line(bus3, bus4, name='Line 3-4', r=0.06, x=0.13, b=0.03, rate=30))\n",
    "grid.add_branch(Line(bus4, bus5, name='Line 4-5', r=0.04, x=0.09, b=0.02, rate=30))"
   ],
   "metadata": {
    "collapsed": false,
    "pycharm": {
     "name": "#%%\n"
    }
   }
  },
  {
   "cell_type": "markdown",
   "source": [
    "Define power flow options:"
   ],
   "metadata": {
    "collapsed": false,
    "pycharm": {
     "name": "#%% md\n"
    }
   }
  },
  {
   "cell_type": "code",
   "execution_count": 56,
   "metadata": {},
   "outputs": [],
   "source": [
    "power_flow_options = PowerFlowOptions(\n",
    "    solver_type=SolverType.NR,  # Base method to use\n",
    "    verbose=False,  # Verbose option where available\n",
    "    tolerance=1e-6,  # power error in p.u.\n",
    "    max_iter=25,  # maximum iteration number\n",
    "    control_q=True  # if to control the reactive power\n",
    ")"
   ]
  },
  {
   "cell_type": "markdown",
   "source": [
    "Declare and execute the power flow simulation"
   ],
   "metadata": {
    "collapsed": false,
    "pycharm": {
     "name": "#%% md\n"
    }
   }
  },
  {
   "cell_type": "code",
   "execution_count": 57,
   "outputs": [],
   "source": [
    "pf = PowerFlowDriver(grid, power_flow_options)\n",
    "pf.run()"
   ],
   "metadata": {
    "collapsed": false,
    "pycharm": {
     "name": "#%%\n"
    }
   }
  },
  {
   "cell_type": "markdown",
   "source": [
    "Now, let's compose a data frame with the voltage results:"
   ],
   "metadata": {
    "collapsed": false
   }
  },
  {
   "cell_type": "code",
   "execution_count": 58,
   "metadata": {},
   "outputs": [
    {
     "name": "stdout",
     "output_type": "stream",
     "text": [
      "\n",
      "    Vm (p.u.)  Va (Deg)       Vre       Vim\n",
      "0   1.000000  0.000000  1.000000  0.000000\n",
      "1   0.955324 -2.404434  0.954483 -0.040079\n",
      "2   0.954838 -2.363420  0.954026 -0.039375\n",
      "3   0.933366 -3.648173  0.931474 -0.059390\n",
      "4   0.953415 -2.688384  0.952366 -0.044719\n"
     ]
    }
   ],
   "source": [
    "headers = ['Vm (p.u.)', 'Va (Deg)', 'Vre', 'Vim']\n",
    "Vm = np.abs(pf.results.voltage)\n",
    "Va = np.angle(pf.results.voltage, deg=True)\n",
    "Vre = pf.results.voltage.real\n",
    "Vim = pf.results.voltage.imag\n",
    "data = np.c_[Vm, Va, Vre, Vim]\n",
    "v_df = pd.DataFrame(data=data, columns=headers, index=grid.bus_names)\n",
    "print('\\n', v_df)"
   ]
  },
  {
   "cell_type": "markdown",
   "source": [
    "Let's do the same for the branch results:"
   ],
   "metadata": {
    "collapsed": false
   }
  },
  {
   "cell_type": "code",
   "execution_count": 59,
   "outputs": [
    {
     "name": "stdout",
     "output_type": "stream",
     "text": [
      "\n",
      "    Loading (%)  Current(p.u.)  Power (MVA)\n",
      "0    99.581363       0.497907    49.790681\n",
      "1    99.364567       0.496823    49.682284\n",
      "2    95.041166       0.760329    76.032933\n",
      "3    15.512118       0.004871     0.465364\n",
      "4    50.595276       0.052961     5.059528\n",
      "5    65.510510       0.205827    19.653153\n",
      "6    82.016167       0.263614    24.604850\n"
     ]
    }
   ],
   "source": [
    "headers = ['Loading (%)', 'Current(p.u.)', 'Power (MVA)']\n",
    "loading = np.abs(pf.results.loading) * 100\n",
    "current = np.abs(pf.results.Ibranch)\n",
    "power = np.abs(pf.results.Sbranch)\n",
    "data = np.c_[loading, current, power]\n",
    "br_df = pd.DataFrame(data=data, columns=headers, index=grid.branch_names)\n",
    "print('\\n', br_df)"
   ],
   "metadata": {
    "collapsed": false,
    "pycharm": {
     "name": "#%%\n"
    }
   }
  },
  {
   "cell_type": "markdown",
   "source": [
    "Finally, print the execution metrics:"
   ],
   "metadata": {
    "collapsed": false,
    "pycharm": {
     "name": "#%% md\n"
    }
   }
  },
  {
   "cell_type": "code",
   "execution_count": 60,
   "outputs": [
    {
     "name": "stdout",
     "output_type": "stream",
     "text": [
      "\n",
      "Error: <bound method PowerFlowResults.error of <GridCal.Engine.Simulations.PowerFlow.power_flow_results.PowerFlowResults object at 0x7f0288a7db00>>\n",
      "Elapsed time (s):           Method  Converged?         Error  Elapsed (s)  Iterations\n",
      "0  SolverType.NR           1  7.547707e-08     0.000531           2 \n",
      "\n",
      "   Vm (p.u.)  Va (Deg)       Vre       Vim\n",
      "0   1.000000  0.000000  1.000000  0.000000\n",
      "1   0.955324 -2.404434  0.954483 -0.040079\n",
      "2   0.954838 -2.363420  0.954026 -0.039375\n",
      "3   0.933366 -3.648173  0.931474 -0.059390\n",
      "4   0.953415 -2.688384  0.952366 -0.044719\n",
      "\n",
      "   Loading (%)  Current(p.u.)  Power (MVA)\n",
      "0    99.581363       0.497907    49.790681\n",
      "1    99.364567       0.496823    49.682284\n",
      "2    95.041166       0.760329    76.032933\n",
      "3    15.512118       0.004871     0.465364\n",
      "4    50.595276       0.052961     5.059528\n",
      "5    65.510510       0.205827    19.653153\n",
      "6    82.016167       0.263614    24.604850\n"
     ]
    }
   ],
   "source": [
    "print('\\nError:', pf.results.error)\n",
    "print('Elapsed time (s):', pf.results.get_report_dataframe(0).t(), '\\n')\n",
    "\n",
    "print(v_df)\n",
    "print()\n",
    "print(br_df)"
   ],
   "metadata": {
    "collapsed": false,
    "pycharm": {
     "name": "#%%\n"
    }
   }
  }
 ],
 "metadata": {
  "kernelspec": {
   "name": "python3",
   "language": "python",
   "display_name": "Python 3"
  },
  "language_info": {
   "codemirror_mode": {
    "name": "ipython",
    "version": 2
   },
   "file_extension": ".py",
   "mimetype": "text/x-python",
   "name": "python",
   "nbconvert_exporter": "python",
   "pygments_lexer": "ipython2",
   "version": "2.7.6"
  }
 },
 "nbformat": 4,
 "nbformat_minor": 0
}